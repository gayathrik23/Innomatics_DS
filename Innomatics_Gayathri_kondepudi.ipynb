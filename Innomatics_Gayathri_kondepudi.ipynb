{
 "cells": [
  {
   "cell_type": "code",
   "execution_count": 2,
   "id": "5e7b4c4e",
   "metadata": {},
   "outputs": [],
   "source": [
    "import pandas as pd"
   ]
  },
  {
   "cell_type": "code",
   "execution_count": 3,
   "id": "b93d70d7",
   "metadata": {},
   "outputs": [
    {
     "name": "stdout",
     "output_type": "stream",
     "text": [
      "(100836, 4)\n"
     ]
    }
   ],
   "source": [
    "import io\n",
    "r_df = pd.read_csv('ratings.csv')\n",
    "print(r_df.shape)"
   ]
  },
  {
   "cell_type": "code",
   "execution_count": 4,
   "id": "151fc540",
   "metadata": {},
   "outputs": [
    {
     "name": "stdout",
     "output_type": "stream",
     "text": [
      "(9742, 3)\n"
     ]
    }
   ],
   "source": [
    "m_df = pd.read_csv('movies.csv')\n",
    "print(m_df.shape)"
   ]
  },
  {
   "cell_type": "code",
   "execution_count": 5,
   "id": "8f758f8e",
   "metadata": {},
   "outputs": [
    {
     "data": {
      "text/html": [
       "<div>\n",
       "<style scoped>\n",
       "    .dataframe tbody tr th:only-of-type {\n",
       "        vertical-align: middle;\n",
       "    }\n",
       "\n",
       "    .dataframe tbody tr th {\n",
       "        vertical-align: top;\n",
       "    }\n",
       "\n",
       "    .dataframe thead th {\n",
       "        text-align: right;\n",
       "    }\n",
       "</style>\n",
       "<table border=\"1\" class=\"dataframe\">\n",
       "  <thead>\n",
       "    <tr style=\"text-align: right;\">\n",
       "      <th></th>\n",
       "      <th>userId</th>\n",
       "      <th>movieId</th>\n",
       "      <th>rating</th>\n",
       "      <th>timestamp</th>\n",
       "    </tr>\n",
       "  </thead>\n",
       "  <tbody>\n",
       "    <tr>\n",
       "      <th>0</th>\n",
       "      <td>1</td>\n",
       "      <td>1</td>\n",
       "      <td>4.0</td>\n",
       "      <td>964982703</td>\n",
       "    </tr>\n",
       "    <tr>\n",
       "      <th>1</th>\n",
       "      <td>1</td>\n",
       "      <td>3</td>\n",
       "      <td>4.0</td>\n",
       "      <td>964981247</td>\n",
       "    </tr>\n",
       "    <tr>\n",
       "      <th>2</th>\n",
       "      <td>1</td>\n",
       "      <td>6</td>\n",
       "      <td>4.0</td>\n",
       "      <td>964982224</td>\n",
       "    </tr>\n",
       "    <tr>\n",
       "      <th>3</th>\n",
       "      <td>1</td>\n",
       "      <td>47</td>\n",
       "      <td>5.0</td>\n",
       "      <td>964983815</td>\n",
       "    </tr>\n",
       "    <tr>\n",
       "      <th>4</th>\n",
       "      <td>1</td>\n",
       "      <td>50</td>\n",
       "      <td>5.0</td>\n",
       "      <td>964982931</td>\n",
       "    </tr>\n",
       "  </tbody>\n",
       "</table>\n",
       "</div>"
      ],
      "text/plain": [
       "   userId  movieId  rating  timestamp\n",
       "0       1        1     4.0  964982703\n",
       "1       1        3     4.0  964981247\n",
       "2       1        6     4.0  964982224\n",
       "3       1       47     5.0  964983815\n",
       "4       1       50     5.0  964982931"
      ]
     },
     "execution_count": 5,
     "metadata": {},
     "output_type": "execute_result"
    }
   ],
   "source": [
    "r_df.head()"
   ]
  },
  {
   "cell_type": "code",
   "execution_count": 6,
   "id": "5aa0eb88",
   "metadata": {},
   "outputs": [
    {
     "name": "stdout",
     "output_type": "stream",
     "text": [
      "610\n"
     ]
    }
   ],
   "source": [
    "unique = r_df['userId'].nunique()\n",
    "print(unique)"
   ]
  },
  {
   "cell_type": "code",
   "execution_count": 7,
   "id": "b17258b8",
   "metadata": {},
   "outputs": [
    {
     "name": "stdout",
     "output_type": "stream",
     "text": [
      "{'Forrest Gump (1994)'}\n"
     ]
    }
   ],
   "source": [
    "dfm = pd.merge(r_df, m_df, on='movieId')\n",
    "\n",
    "c = dfm.groupby('movieId')['rating'].count()\n",
    "\n",
    "maxi= c.idxmax()\n",
    "\n",
    "maxt = m_df[m_df['movieId'] == maxi]['title'].iloc[0]\n",
    "\n",
    "print({maxt})"
   ]
  },
  {
   "cell_type": "code",
   "execution_count": 8,
   "id": "a7a1a157",
   "metadata": {},
   "outputs": [],
   "source": [
    "import pandas as pd\n",
    "t_df = pd.read_csv('tags.csv')\n"
   ]
  },
  {
   "cell_type": "code",
   "execution_count": 9,
   "id": "59c9a11b",
   "metadata": {},
   "outputs": [
    {
     "name": "stdout",
     "output_type": "stream",
     "text": [
      "['martial arts' 'sci-fi' 'alternate universe' 'philosophy'\n",
      " 'post apocalyptic']\n"
     ]
    }
   ],
   "source": [
    "id1 = 2571\n",
    "t = t_df[t_df['movieId'] == id1]['tag']\n",
    "\n",
    "print(t.unique())"
   ]
  },
  {
   "cell_type": "code",
   "execution_count": 10,
   "id": "0423c8db",
   "metadata": {},
   "outputs": [
    {
     "name": "stdout",
     "output_type": "stream",
     "text": [
      "3.970982142857143\n"
     ]
    }
   ],
   "source": [
    "terminator= m_df[m_df['title'] == 'Terminator 2: Judgment Day (1991)']['movieId'].iloc[0]\n",
    "\n",
    "ratings = r_df[r_df['movieId'] == terminator]\n",
    "\n",
    "avg= ratings['rating'].mean()\n",
    "\n",
    "print(avg)"
   ]
  },
  {
   "cell_type": "code",
   "execution_count": 11,
   "id": "e6db16bb",
   "metadata": {},
   "outputs": [
    {
     "data": {
      "image/png": "[encoded data removed]",
      "text/plain": [
       "<Figure size 576x360 with 1 Axes>"
      ]
     },
     "metadata": {
      "needs_background": "light"
     },
     "output_type": "display_data"
    }
   ],
   "source": [
    "import matplotlib.pyplot as plt\n",
    "f_id = m_df[m_df['title'] == 'Fight Club (1999)']['movieId'].iloc[0]\n",
    "f_r = r_df[r_df['movieId'] == f_id]\n",
    "plt.figure(figsize=(8, 5))\n",
    "plt.hist(f_r['rating'], bins=10, color='pink', edgecolor='black')\n",
    "plt.title('Distribution of User Ratings for Fight Club (1999)')\n",
    "plt.xlabel('Rating')\n",
    "plt.ylabel('Frequency')\n",
    "plt.grid(True)\n",
    "plt.show()"
   ]
  },
  {
   "cell_type": "code",
   "execution_count": 12,
   "id": "035be323",
   "metadata": {},
   "outputs": [
    {
     "name": "stdout",
     "output_type": "stream",
     "text": [
      "                                title  rating_mean\n",
      "277  Shawshank Redemption, The (1994)     4.429022\n"
     ]
    }
   ],
   "source": [
    "group = r_df.groupby('movieId').agg({'rating': ['count', 'mean']}).reset_index()\n",
    "group.columns = ['movieId', 'rating_count', 'rating_mean']\n",
    "mer = pd.merge(m_df, group, on='movieId', how='inner')\n",
    "\n",
    "fdf = mer[mer['rating_count'] > 50]\n",
    "\n",
    "res = fdf[fdf['rating_mean'] == fdf['rating_mean'].max()]\n",
    "\n",
    "print(res[['title', 'rating_mean']])\n"
   ]
  },
  {
   "cell_type": "code",
   "execution_count": 13,
   "id": "2e3c3dbc",
   "metadata": {},
   "outputs": [
    {
     "name": "stdout",
     "output_type": "stream",
     "text": [
      "                                 title  rating_count\n",
      "314                Forrest Gump (1994)           329\n",
      "277   Shawshank Redemption, The (1994)           317\n",
      "257                Pulp Fiction (1994)           307\n",
      "510   Silence of the Lambs, The (1991)           279\n",
      "1938                Matrix, The (1999)           278\n"
     ]
    }
   ],
   "source": [
    "t5 = fdf.sort_values(by='rating_count', ascending=False).head(5)\n",
    "\n",
    "print(t5[['title', 'rating_count']])\n"
   ]
  },
  {
   "cell_type": "code",
   "execution_count": 22,
   "id": "a25d9fbe",
   "metadata": {},
   "outputs": [
    {
     "name": "stdout",
     "output_type": "stream",
     "text": [
      "title           Jurassic Park (1993)\n",
      "rating_count                     238\n",
      "Name: 418, dtype: object\n"
     ]
    }
   ],
   "source": [
    "x = fdf[fdf['genres'].str.contains('Sci-Fi')]\n",
    "y = x.sort_values(by='rating_count', ascending=False)\n",
    "res = y.iloc[2]\n",
    "print(res[['title', 'rating_count']])\n",
    "\n"
   ]
  },
  {
   "cell_type": "code",
   "execution_count": null,
   "id": "c01ca9ce",
   "metadata": {},
   "outputs": [],
   "source": []
  }
 ],
 "metadata": {
  "kernelspec": {
   "display_name": "Python 3 (ipykernel)",
   "language": "python",
   "name": "python3"
  },
  "language_info": {
   "codemirror_mode": {
    "name": "ipython",
    "version": 3
   },
   "file_extension": ".py",
   "mimetype": "text/x-python",
   "name": "python",
   "nbconvert_exporter": "python",
   "pygments_lexer": "ipython3",
   "version": "3.9.12"
  }
 },
 "nbformat": 4,
 "nbformat_minor": 5
}
